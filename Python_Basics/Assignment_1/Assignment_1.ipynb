{
 "cells": [
  {
   "attachments": {},
   "cell_type": "markdown",
   "metadata": {},
   "source": [
    "#### INeuron Python Basics Assignment 1"
   ]
  },
  {
   "attachments": {},
   "cell_type": "markdown",
   "metadata": {},
   "source": [
    "#### Q1. \n",
    "In the below elements, which of them are values or expressions?\n",
    "\n",
    "For example, values can be integers or strings, and expressions will be mathematical operators.\n",
    "\n",
    "`*`  \n",
    "`'hello'`  \n",
    "`-87.8`  \n",
    "`-`  \n",
    "`/`  \n",
    "`+`  \n",
    "`6`  "
   ]
  },
  {
   "cell_type": "code",
   "execution_count": 15,
   "metadata": {},
   "outputs": [
    {
     "name": "stdout",
     "output_type": "stream",
     "text": [
      "* is a Expression\n",
      "hello is a Value\n",
      "-87.8 is a Value\n",
      "- is a Expression\n",
      "- is a Expression\n",
      "/ is a Expression\n",
      "+ is a Expression\n",
      "6 is a Value\n"
     ]
    }
   ],
   "source": [
    "# Ans\n",
    "\n",
    "elements = ['*', 'hello', -87.8, '-', '-', '/', '+', 6]\n",
    "expressions = [\"+\", \"-\", \"*\", \"/\", \"%\"]\n",
    "\n",
    "def check_type(inp:list) -> None:\n",
    "    if inp not in expressions:\n",
    "        print(f\"{inp} is a Value\")\n",
    "    else:\n",
    "        print(f\"{inp} is a Expression\")\n",
    "\n",
    "\n",
    "for ele in elements:\n",
    "    check_type(ele)"
   ]
  },
  {
   "attachments": {},
   "cell_type": "markdown",
   "metadata": {},
   "source": [
    "##### -------------------------------------------------------------------------------------------"
   ]
  },
  {
   "attachments": {},
   "cell_type": "markdown",
   "metadata": {},
   "source": [
    "#### Q2. \n",
    "What is the difference between string and variable?"
   ]
  },
  {
   "attachments": {},
   "cell_type": "markdown",
   "metadata": {},
   "source": [
    "###### Ans\n",
    "\n",
    "A string is a collection of characters, but a variable is something used to store a value. This value can be an int, float, boolean, string, etc. So a string can be assigned to a variable, and then this variable can be changed to another value of any other data type, whereas a string is unchangeable.\n"
   ]
  },
  {
   "cell_type": "markdown",
   "metadata": {},
   "source": [
    "##### -------------------------------------------------------------------------------------------"
   ]
  },
  {
   "attachments": {},
   "cell_type": "markdown",
   "metadata": {},
   "source": [
    "#### Q3. \n",
    "Describe three different data types."
   ]
  },
  {
   "attachments": {},
   "cell_type": "markdown",
   "metadata": {},
   "source": [
    "###### Ans\n",
    "\n",
    "Integer : Integers are whole numbers, positive, negative or zero, that don't have decimal places. In Python, integers are represented by the int type. For example, the number 42 is an integer.\n",
    "\n",
    "Float : Float numbers are those which have decimal places. In python floating type of numbers are called \"float\" type. For example 4.12 is a \"float\" type of number.\n",
    "\n",
    "String : Strings are a collection of characters. In python Strings are represented as \"str\" type. We can specify them by enclosing the data in either single quote or double quote or triple quotes( ' ', \" \", \"\"\" \"\"\"). For example \"Hello\" is a string."
   ]
  },
  {
   "cell_type": "markdown",
   "metadata": {},
   "source": [
    "##### -------------------------------------------------------------------------------------------"
   ]
  },
  {
   "attachments": {},
   "cell_type": "markdown",
   "metadata": {},
   "source": [
    "#### Q4. \n",
    "What is an expression made up of? What do all expressions do?"
   ]
  },
  {
   "attachments": {},
   "cell_type": "markdown",
   "metadata": {},
   "source": [
    "###### Ans\n",
    "\n",
    "An Expression in Python is made up of values, operators and function calls which is used to calculate a end result. All expressions in Python help us in calculating a value. Expressions can be simple or complex and may have one or more than one operators. They can also include variables which store values and are used to calculate the result of its respective expression. Expressions are useful in python as they help in calculating values and based decisions based on the evaluated results."
   ]
  },
  {
   "cell_type": "markdown",
   "metadata": {},
   "source": [
    "##### -------------------------------------------------------------------------------------------"
   ]
  },
  {
   "attachments": {},
   "cell_type": "markdown",
   "metadata": {},
   "source": [
    "#### Q5. \n",
    "This assignment statements, like spam = 10. What is the difference between an\n",
    "expression and a statement?"
   ]
  },
  {
   "attachments": {},
   "cell_type": "markdown",
   "metadata": {},
   "source": [
    "###### Ans\n",
    "\n",
    "In Python an expression is a piece of code that is used to calculate a value, while a statement is a line of code that performs a action.\n",
    "\n",
    "An assignment statement like \"spam = 10\" is an example of a statement,It assigns the value of 10 to the variable \"spam\". Here the action is it is assigning a value to a variable.\n",
    "\n",
    "Whereas an expression such as \"3 + 5\" is used to calculate a value such as \"8\". Expressions can be used as a part of a statement."
   ]
  },
  {
   "cell_type": "markdown",
   "metadata": {},
   "source": [
    "##### -------------------------------------------------------------------------------------------"
   ]
  },
  {
   "attachments": {},
   "cell_type": "markdown",
   "metadata": {},
   "source": [
    "#### Q6. \n",
    "After running the following code, what does the variable bacon contain?   \n",
    "\n",
    "bacon = 22  \n",
    "bacon + 1  "
   ]
  },
  {
   "cell_type": "code",
   "execution_count": null,
   "metadata": {},
   "outputs": [
    {
     "name": "stdout",
     "output_type": "stream",
     "text": [
      "22\n"
     ]
    }
   ],
   "source": [
    "#Ans\n",
    "\n",
    "bacon = 22  \n",
    "bacon + 1\n",
    "print(bacon)  \n",
    "\n",
    "\n",
    "# The variable bacon contains value 22 because even though we are adding 1 to the bacon variable we are not storing the resulting value to any variable.\n"
   ]
  },
  {
   "cell_type": "markdown",
   "metadata": {},
   "source": [
    "##### -------------------------------------------------------------------------------------------"
   ]
  },
  {
   "attachments": {},
   "cell_type": "markdown",
   "metadata": {},
   "source": [
    "#### Q7.\n",
    "\n",
    "What should the values of the following two terms be?\n",
    "\n",
    "'spam' + 'spamspam'  \n",
    "'spam' * 3"
   ]
  },
  {
   "cell_type": "code",
   "execution_count": 24,
   "metadata": {},
   "outputs": [
    {
     "name": "stdout",
     "output_type": "stream",
     "text": [
      "spamspamspam\n",
      "spamspamspam\n"
     ]
    }
   ],
   "source": [
    "#Ans\n",
    "\n",
    "\n",
    "# This will result in a one string which will have both the string vales with no space : spamspamspam.\n",
    "print('spam' + 'spamspam')\n",
    "\n",
    "#This will result in 'spam' repeating thrice.\n",
    "print('spam' * 3)"
   ]
  },
  {
   "cell_type": "markdown",
   "metadata": {},
   "source": [
    "##### -------------------------------------------------------------------------------------------"
   ]
  },
  {
   "attachments": {},
   "cell_type": "markdown",
   "metadata": {},
   "source": [
    "#### Q8.\n",
    "\n",
    "Why is eggs a valid variable name while 100 is invalid?"
   ]
  },
  {
   "attachments": {},
   "cell_type": "markdown",
   "metadata": {},
   "source": [
    "###### Ans\n",
    "\n",
    "In Python we must follow few rules for creating a variable name. Variable names can contain letters, underscores and digits, but they cannot start with a digit. So the variable name \"eggs\" is a valid name as it follows the rules but \"100\" is invalid as it violates the rule that its first character is a digit."
   ]
  },
  {
   "cell_type": "markdown",
   "metadata": {},
   "source": [
    "##### -------------------------------------------------------------------------------------------"
   ]
  },
  {
   "attachments": {},
   "cell_type": "markdown",
   "metadata": {},
   "source": [
    "#### Q9.\n",
    "\n",
    "What three functions can be used to get the integer, floating-point number, or string\n",
    "version of a value?"
   ]
  },
  {
   "attachments": {},
   "cell_type": "markdown",
   "metadata": {},
   "source": [
    "###### Ans\n",
    "\n",
    "In Python we can use the below function to get the integer, float or string version of a value:\n",
    "\n",
    "int() : This function is used to convert a value to its integer version. If the value was a string it should contain a value integer literal or else we will get an error.\n",
    "\n",
    "float() : This function is used to convert a value to its float version. If the value was a string it should contain a value float literal or else we will get an error.\n",
    "\n",
    "str(): This function can be used to convert a value to a string. It returns a string version of the value, regardless of its type. "
   ]
  },
  {
   "cell_type": "markdown",
   "metadata": {},
   "source": [
    "##### -------------------------------------------------------------------------------------------"
   ]
  },
  {
   "attachments": {},
   "cell_type": "markdown",
   "metadata": {},
   "source": [
    "#### Q10.\n",
    "\n",
    "Why does this expression cause an error? How can you fix it?\n",
    "'I have eaten ' + 99 + ' burritos.'"
   ]
  },
  {
   "attachments": {},
   "cell_type": "markdown",
   "metadata": {},
   "source": [
    "###### Ans\n",
    "\n",
    "This expression causes an error in Python because we cannot add a string to an integer directly. \n",
    "\n",
    "To fix this issue we can use the function \"str()\" to convert the integer \"99\" to string and then add them to the other string values as below :\n",
    "\n",
    "*'I have eaten ' + str(99) + ' burritos.'*\n",
    "\n",
    "In this code, str(99) converts the integer value 99 to a string before concatenating it with the other two strings."
   ]
  },
  {
   "cell_type": "markdown",
   "metadata": {},
   "source": [
    "##### -------------------------------------------------------------------------------------------"
   ]
  }
 ],
 "metadata": {
  "kernelspec": {
   "display_name": "base",
   "language": "python",
   "name": "python3"
  },
  "language_info": {
   "codemirror_mode": {
    "name": "ipython",
    "version": 3
   },
   "file_extension": ".py",
   "mimetype": "text/x-python",
   "name": "python",
   "nbconvert_exporter": "python",
   "pygments_lexer": "ipython3",
   "version": "3.9.16"
  },
  "orig_nbformat": 4
 },
 "nbformat": 4,
 "nbformat_minor": 2
}
